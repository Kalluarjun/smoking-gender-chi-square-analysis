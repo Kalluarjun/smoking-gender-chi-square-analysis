{
 "cells": [
  {
   "cell_type": "markdown",
   "id": "34703a36-5268-48b3-8419-b327a2d08818",
   "metadata": {},
   "source": [
    "# Chi-square test"
   ]
  },
  {
   "cell_type": "code",
   "execution_count": 1,
   "id": "eb5a6594-3acb-4d9e-998a-dd6d6c68d091",
   "metadata": {},
   "outputs": [],
   "source": [
    "import scipy.stats as stats"
   ]
  },
  {
   "cell_type": "code",
   "execution_count": 4,
   "id": "7bfd14af-ee27-406e-abd8-f28d1c82e56d",
   "metadata": {},
   "outputs": [
    {
     "data": {
      "text/html": [
       "<div>\n",
       "<style scoped>\n",
       "    .dataframe tbody tr th:only-of-type {\n",
       "        vertical-align: middle;\n",
       "    }\n",
       "\n",
       "    .dataframe tbody tr th {\n",
       "        vertical-align: top;\n",
       "    }\n",
       "\n",
       "    .dataframe thead th {\n",
       "        text-align: right;\n",
       "    }\n",
       "</style>\n",
       "<table border=\"1\" class=\"dataframe\">\n",
       "  <thead>\n",
       "    <tr style=\"text-align: right;\">\n",
       "      <th></th>\n",
       "      <th>total_bill</th>\n",
       "      <th>tip</th>\n",
       "      <th>sex</th>\n",
       "      <th>smoker</th>\n",
       "      <th>day</th>\n",
       "      <th>time</th>\n",
       "      <th>size</th>\n",
       "    </tr>\n",
       "  </thead>\n",
       "  <tbody>\n",
       "    <tr>\n",
       "      <th>0</th>\n",
       "      <td>16.99</td>\n",
       "      <td>1.01</td>\n",
       "      <td>Female</td>\n",
       "      <td>No</td>\n",
       "      <td>Sun</td>\n",
       "      <td>Dinner</td>\n",
       "      <td>2</td>\n",
       "    </tr>\n",
       "    <tr>\n",
       "      <th>1</th>\n",
       "      <td>10.34</td>\n",
       "      <td>1.66</td>\n",
       "      <td>Male</td>\n",
       "      <td>No</td>\n",
       "      <td>Sun</td>\n",
       "      <td>Dinner</td>\n",
       "      <td>3</td>\n",
       "    </tr>\n",
       "    <tr>\n",
       "      <th>2</th>\n",
       "      <td>21.01</td>\n",
       "      <td>3.50</td>\n",
       "      <td>Male</td>\n",
       "      <td>No</td>\n",
       "      <td>Sun</td>\n",
       "      <td>Dinner</td>\n",
       "      <td>3</td>\n",
       "    </tr>\n",
       "    <tr>\n",
       "      <th>3</th>\n",
       "      <td>23.68</td>\n",
       "      <td>3.31</td>\n",
       "      <td>Male</td>\n",
       "      <td>No</td>\n",
       "      <td>Sun</td>\n",
       "      <td>Dinner</td>\n",
       "      <td>2</td>\n",
       "    </tr>\n",
       "    <tr>\n",
       "      <th>4</th>\n",
       "      <td>24.59</td>\n",
       "      <td>3.61</td>\n",
       "      <td>Female</td>\n",
       "      <td>No</td>\n",
       "      <td>Sun</td>\n",
       "      <td>Dinner</td>\n",
       "      <td>4</td>\n",
       "    </tr>\n",
       "  </tbody>\n",
       "</table>\n",
       "</div>"
      ],
      "text/plain": [
       "   total_bill   tip     sex smoker  day    time  size\n",
       "0       16.99  1.01  Female     No  Sun  Dinner     2\n",
       "1       10.34  1.66    Male     No  Sun  Dinner     3\n",
       "2       21.01  3.50    Male     No  Sun  Dinner     3\n",
       "3       23.68  3.31    Male     No  Sun  Dinner     2\n",
       "4       24.59  3.61  Female     No  Sun  Dinner     4"
      ]
     },
     "execution_count": 4,
     "metadata": {},
     "output_type": "execute_result"
    }
   ],
   "source": [
    "import seaborn as sns\n",
    "import pandas as pd\n",
    "import numpy as np\n",
    "dataset= sns.load_dataset('tips')\n",
    "dataset.head()"
   ]
  },
  {
   "cell_type": "code",
   "execution_count": 5,
   "id": "946439ce-beff-4a4c-bba3-a796b1c6ca3c",
   "metadata": {},
   "outputs": [],
   "source": [
    "dataset_table= pd.crosstab(dataset['sex'], dataset['smoker'])"
   ]
  },
  {
   "cell_type": "code",
   "execution_count": 6,
   "id": "2e50d366-be6f-46cf-837a-19de663ab1e4",
   "metadata": {},
   "outputs": [
    {
     "data": {
      "text/html": [
       "<div>\n",
       "<style scoped>\n",
       "    .dataframe tbody tr th:only-of-type {\n",
       "        vertical-align: middle;\n",
       "    }\n",
       "\n",
       "    .dataframe tbody tr th {\n",
       "        vertical-align: top;\n",
       "    }\n",
       "\n",
       "    .dataframe thead th {\n",
       "        text-align: right;\n",
       "    }\n",
       "</style>\n",
       "<table border=\"1\" class=\"dataframe\">\n",
       "  <thead>\n",
       "    <tr style=\"text-align: right;\">\n",
       "      <th>smoker</th>\n",
       "      <th>Yes</th>\n",
       "      <th>No</th>\n",
       "    </tr>\n",
       "    <tr>\n",
       "      <th>sex</th>\n",
       "      <th></th>\n",
       "      <th></th>\n",
       "    </tr>\n",
       "  </thead>\n",
       "  <tbody>\n",
       "    <tr>\n",
       "      <th>Male</th>\n",
       "      <td>60</td>\n",
       "      <td>97</td>\n",
       "    </tr>\n",
       "    <tr>\n",
       "      <th>Female</th>\n",
       "      <td>33</td>\n",
       "      <td>54</td>\n",
       "    </tr>\n",
       "  </tbody>\n",
       "</table>\n",
       "</div>"
      ],
      "text/plain": [
       "smoker  Yes  No\n",
       "sex            \n",
       "Male     60  97\n",
       "Female   33  54"
      ]
     },
     "execution_count": 6,
     "metadata": {},
     "output_type": "execute_result"
    }
   ],
   "source": [
    "dataset_table"
   ]
  },
  {
   "cell_type": "code",
   "execution_count": null,
   "id": "0608a52b-9562-444e-a0bc-ca6b2eecc296",
   "metadata": {},
   "outputs": [],
   "source": [
    "# O"
   ]
  },
  {
   "cell_type": "code",
   "execution_count": 7,
   "id": "a0c65eb6-e0ec-4fb9-8ff2-02a5636cff22",
   "metadata": {},
   "outputs": [],
   "source": [
    "Observed_values= dataset_table.values"
   ]
  },
  {
   "cell_type": "code",
   "execution_count": 8,
   "id": "90c27934-8218-4541-840c-be3864c2d847",
   "metadata": {},
   "outputs": [
    {
     "data": {
      "text/plain": [
       "array([[60, 97],\n",
       "       [33, 54]])"
      ]
     },
     "execution_count": 8,
     "metadata": {},
     "output_type": "execute_result"
    }
   ],
   "source": [
    "Observed_values"
   ]
  },
  {
   "cell_type": "code",
   "execution_count": null,
   "id": "b08c88d3-b636-4d20-b68e-568659cdb31e",
   "metadata": {},
   "outputs": [],
   "source": [
    "# Chi-square statistic, p-value, Degrees of freedom, and Expected Frequencies(e)"
   ]
  },
  {
   "cell_type": "code",
   "execution_count": 12,
   "id": "8007939a-8b41-4e4b-9421-6f1b38efbf1e",
   "metadata": {},
   "outputs": [],
   "source": [
    "val= stats.chi2_contingency(dataset_table)"
   ]
  },
  {
   "cell_type": "code",
   "execution_count": 14,
   "id": "cf16e0e8-d5ab-449f-91e4-3893ace518a1",
   "metadata": {},
   "outputs": [
    {
     "name": "stdout",
     "output_type": "stream",
     "text": [
      "Chi2ContingencyResult(statistic=np.float64(0.0), pvalue=np.float64(1.0), dof=1, expected_freq=array([[59.84016393, 97.15983607],\n",
      "       [33.15983607, 53.84016393]]))\n"
     ]
    }
   ],
   "source": [
    "print(val)"
   ]
  },
  {
   "cell_type": "code",
   "execution_count": 15,
   "id": "5f56ec46-a854-493f-a92e-e92c90096ce5",
   "metadata": {},
   "outputs": [],
   "source": [
    "Expected_values= val[3]"
   ]
  },
  {
   "cell_type": "code",
   "execution_count": 16,
   "id": "caeb2eca-fb0b-4ee7-bfa5-82cccf3efe8c",
   "metadata": {},
   "outputs": [],
   "source": [
    "rows, columns= dataset_table.shape"
   ]
  },
  {
   "cell_type": "code",
   "execution_count": 17,
   "id": "d1c7929b-8bca-47a5-93d6-c7d8aaf10495",
   "metadata": {},
   "outputs": [
    {
     "data": {
      "text/plain": [
       "(2, 2)"
      ]
     },
     "execution_count": 17,
     "metadata": {},
     "output_type": "execute_result"
    }
   ],
   "source": [
    "rows, columns"
   ]
  },
  {
   "cell_type": "code",
   "execution_count": 19,
   "id": "2e9cc00e-af70-4e42-883f-0dc1ceda3b75",
   "metadata": {},
   "outputs": [],
   "source": [
    "dof, alpha= (rows-1)*(columns-1), 0.05"
   ]
  },
  {
   "cell_type": "code",
   "execution_count": 20,
   "id": "c2847847-7695-492d-a36f-90a3eb8d294c",
   "metadata": {},
   "outputs": [
    {
     "data": {
      "text/plain": [
       "(1, 0.05)"
      ]
     },
     "execution_count": 20,
     "metadata": {},
     "output_type": "execute_result"
    }
   ],
   "source": [
    "dof, alpha"
   ]
  },
  {
   "cell_type": "code",
   "execution_count": 22,
   "id": "741da639-dff0-44a1-afd2-7e0b1484be6d",
   "metadata": {},
   "outputs": [],
   "source": [
    "# calculating chi square value"
   ]
  },
  {
   "cell_type": "code",
   "execution_count": 31,
   "id": "7c01e68a-dab5-461e-aaf8-a88a4a583908",
   "metadata": {},
   "outputs": [],
   "source": [
    "from scipy.stats import chi2\n",
    "chi_square= sum([((o-e)**2)/e for o,e in zip(Observed_values,Expected_values)]) \n",
    "chi_square_statistic= chi_square[0] + chi_square[1]"
   ]
  },
  {
   "cell_type": "code",
   "execution_count": 33,
   "id": "884ee2bf-dd22-44c4-88c2-5d9b9db9584c",
   "metadata": {},
   "outputs": [
    {
     "name": "stdout",
     "output_type": "stream",
     "text": [
      "0.001934818536627623\n"
     ]
    }
   ],
   "source": [
    "print(chi_square_statistic)"
   ]
  },
  {
   "cell_type": "code",
   "execution_count": 35,
   "id": "3ed61283-20ef-4cc6-a139-0abad36dcdbf",
   "metadata": {},
   "outputs": [
    {
     "name": "stdout",
     "output_type": "stream",
     "text": [
      "3.841458820694124\n"
     ]
    }
   ],
   "source": [
    "critical_value= chi2.ppf(1-alpha, dof)\n",
    "print(critical_value)"
   ]
  },
  {
   "cell_type": "code",
   "execution_count": 36,
   "id": "6d31cadc-8318-44fb-b535-cdaffdb41fbc",
   "metadata": {},
   "outputs": [
    {
     "name": "stdout",
     "output_type": "stream",
     "text": [
      "Retain H0,There is no relationship between 2 categorical variables\n"
     ]
    }
   ],
   "source": [
    " if chi_square_statistic>=critical_value:\n",
    "    print(\"Reject H0,There is a relationship between 2 categorical variables\")\n",
    "else:\n",
    "    print(\"Retain H0,There is no relationship between 2 categorical variables\")\n",
    "    "
   ]
  },
  {
   "cell_type": "code",
   "execution_count": 37,
   "id": "49c8808f-bf00-4430-bac9-15e344aed6f1",
   "metadata": {},
   "outputs": [],
   "source": [
    "# Alternative way "
   ]
  },
  {
   "cell_type": "code",
   "execution_count": 39,
   "id": "86cb424e-36d8-4eba-9a02-b7136b972403",
   "metadata": {},
   "outputs": [
    {
     "name": "stdout",
     "output_type": "stream",
     "text": [
      "0.964915107315732\n"
     ]
    }
   ],
   "source": [
    "p_value= 1- chi2.cdf(chi_square_statistic, dof)\n",
    "print(p_value)"
   ]
  },
  {
   "cell_type": "code",
   "execution_count": 40,
   "id": "ecae7318-7344-4bc1-85ac-dbf6bebd58ad",
   "metadata": {},
   "outputs": [
    {
     "name": "stdout",
     "output_type": "stream",
     "text": [
      "Retain H0,There is no relationship between 2 categorical variables\n"
     ]
    }
   ],
   "source": [
    "if p_value<=alpha:\n",
    "    print(\"Reject H0,There is a relationship between 2 categorical variables\")\n",
    "else:\n",
    "    print(\"Retain H0,There is no relationship between 2 categorical variables\")"
   ]
  },
  {
   "cell_type": "code",
   "execution_count": null,
   "id": "b5dd6516-2e58-4b6c-bf42-58450ebe0401",
   "metadata": {},
   "outputs": [],
   "source": []
  }
 ],
 "metadata": {
  "kernelspec": {
   "display_name": "Python 3 (ipykernel)",
   "language": "python",
   "name": "python3"
  },
  "language_info": {
   "codemirror_mode": {
    "name": "ipython",
    "version": 3
   },
   "file_extension": ".py",
   "mimetype": "text/x-python",
   "name": "python",
   "nbconvert_exporter": "python",
   "pygments_lexer": "ipython3",
   "version": "3.13.0"
  }
 },
 "nbformat": 4,
 "nbformat_minor": 5
}
